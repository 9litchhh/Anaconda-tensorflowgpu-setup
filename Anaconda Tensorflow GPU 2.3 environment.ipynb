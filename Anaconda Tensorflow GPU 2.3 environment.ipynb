{
 "cells": [
  {
   "cell_type": "markdown",
   "id": "comprehensive-whale",
   "metadata": {},
   "source": [
    "# Setting up Anaconda Environment for Tensorflow GPU 2.3"
   ]
  },
  {
   "cell_type": "markdown",
   "id": "supreme-university",
   "metadata": {},
   "source": [
    "### Creating new anaconda environment"
   ]
  },
  {
   "cell_type": "code",
   "execution_count": null,
   "id": "endangered-albany",
   "metadata": {},
   "outputs": [],
   "source": [
    "conda create -n tf-gpu"
   ]
  },
  {
   "cell_type": "markdown",
   "id": "photographic-austria",
   "metadata": {},
   "source": [
    "### Activate Environment"
   ]
  },
  {
   "cell_type": "code",
   "execution_count": null,
   "id": "stock-terminal",
   "metadata": {},
   "outputs": [],
   "source": [
    "conda activate tf-gpu"
   ]
  },
  {
   "cell_type": "markdown",
   "id": "opposed-accountability",
   "metadata": {},
   "source": [
    "### install python"
   ]
  },
  {
   "cell_type": "code",
   "execution_count": null,
   "id": "induced-decline",
   "metadata": {},
   "outputs": [],
   "source": [
    "conda install  python=3.8"
   ]
  },
  {
   "cell_type": "markdown",
   "id": "complimentary-praise",
   "metadata": {},
   "source": [
    "### Install Ipykernel"
   ]
  },
  {
   "cell_type": "code",
   "execution_count": null,
   "id": "primary-ensemble",
   "metadata": {},
   "outputs": [],
   "source": [
    "pip install ipykernel"
   ]
  },
  {
   "cell_type": "code",
   "execution_count": null,
   "id": "trained-michigan",
   "metadata": {},
   "outputs": [],
   "source": [
    "python -m ipykernel install --user --name tf-gpu --display-name \"tf-gpu\""
   ]
  },
  {
   "cell_type": "markdown",
   "id": "thorough-kingdom",
   "metadata": {},
   "source": [
    "### Install CudaToolkit"
   ]
  },
  {
   "cell_type": "code",
   "execution_count": null,
   "id": "loaded-invalid",
   "metadata": {},
   "outputs": [],
   "source": [
    "conda install -c anaconda cudatoolkit=10.1"
   ]
  },
  {
   "cell_type": "markdown",
   "id": "dated-schedule",
   "metadata": {},
   "source": [
    "### Install tensorflow gpu 2.3"
   ]
  },
  {
   "cell_type": "code",
   "execution_count": null,
   "id": "executed-insurance",
   "metadata": {},
   "outputs": [],
   "source": [
    "pip install tensorflow-gpu==2.3.1"
   ]
  },
  {
   "cell_type": "markdown",
   "id": "civilian-arctic",
   "metadata": {},
   "source": [
    "### Install Jupyter Notebooks"
   ]
  },
  {
   "cell_type": "code",
   "execution_count": null,
   "id": "cleared-sword",
   "metadata": {},
   "outputs": [],
   "source": [
    "conda install jupyter"
   ]
  },
  {
   "cell_type": "markdown",
   "id": "fatty-framing",
   "metadata": {},
   "source": [
    "### Running jupyter notebooks"
   ]
  },
  {
   "cell_type": "code",
   "execution_count": null,
   "id": "extended-equity",
   "metadata": {},
   "outputs": [],
   "source": [
    "jupyter notebook"
   ]
  }
 ],
 "metadata": {
  "kernelspec": {
   "display_name": "tf-gpu",
   "language": "python",
   "name": "tf-gpu"
  },
  "language_info": {
   "codemirror_mode": {
    "name": "ipython",
    "version": 3
   },
   "file_extension": ".py",
   "mimetype": "text/x-python",
   "name": "python",
   "nbconvert_exporter": "python",
   "pygments_lexer": "ipython3",
   "version": "3.8.5"
  }
 },
 "nbformat": 4,
 "nbformat_minor": 5
}
